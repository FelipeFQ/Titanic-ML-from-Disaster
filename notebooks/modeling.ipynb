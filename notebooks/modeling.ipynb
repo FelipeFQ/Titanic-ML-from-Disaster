{
 "cells": [
  {
   "cell_type": "markdown",
   "id": "5b1a1eef",
   "metadata": {},
   "source": [
    "\n",
    "# 🧠 Titanic — Modeling (Predicting Survival)\n",
    "\n",
    "**Goal:** build a **reproducible** machine‑learning pipeline to predict `Survived` for the Kaggle Titanic challenge.  \n",
    "This notebook turns EDA insights into features, evaluates multiple models with proper validation, tunes hyperparameters, and produces a submission file.\n"
   ]
  },
  {
   "cell_type": "markdown",
   "id": "3b135b79",
   "metadata": {},
   "source": [
    "\n",
    "## 0) Setup & rationale\n",
    "\n",
    "**Why a pipeline?** To avoid data leakage and to guarantee that train/validation/test all receive identical preprocessing.  \n",
    "**What we’ll do:**\n",
    "1. **Engineer features** motivated by EDA (`Title`, `FamilySize`, `IsAlone`, `Deck`, `log(Fare)`).  \n",
    "2. **Preprocess** with scikit‑learn `ColumnTransformer` (impute + one‑hot).  \n",
    "3. **Validate** with **Stratified K‑Fold**, report **accuracy** (Kaggle metric) and holdout **confusion matrix**.  \n",
    "4. Try multiple models (Logistic Regression, Random Forest, Gradient Boosting, **HistGB**, **XGBoost**).  \n",
    "5. **Tune hyperparameters** (RandomizedSearchCV) for boosted models.  \n",
    "6. **Early stopping** with XGBoost (done outside the pipeline for maximum compatibility).  \n",
    "7. Train on all data and create `submission.csv`.\n"
   ]
  },
  {
   "cell_type": "code",
   "execution_count": 1,
   "id": "f6c48668",
   "metadata": {},
   "outputs": [],
   "source": [
    "\n",
    "# Core\n",
    "import os\n",
    "import numpy as np\n",
    "import pandas as pd\n",
    "\n",
    "# Modeling & pipeline\n",
    "from sklearn.model_selection import StratifiedKFold, cross_val_score, train_test_split, RandomizedSearchCV\n",
    "from sklearn.compose import ColumnTransformer\n",
    "from sklearn.pipeline import Pipeline\n",
    "from sklearn.preprocessing import OneHotEncoder, FunctionTransformer\n",
    "from sklearn.impute import SimpleImputer\n",
    "from sklearn.metrics import accuracy_score, confusion_matrix, ConfusionMatrixDisplay\n",
    "\n",
    "# Models\n",
    "from sklearn.linear_model import LogisticRegression\n",
    "from sklearn.ensemble import RandomForestClassifier, GradientBoostingClassifier, HistGradientBoostingClassifier\n",
    "from xgboost import XGBClassifier\n",
    "\n",
    "# Utils\n",
    "import matplotlib.pyplot as plt\n",
    "from scipy.stats import loguniform, randint\n",
    "\n",
    "np.random.seed(42)\n"
   ]
  },
  {
   "cell_type": "markdown",
   "id": "f9a7a31a",
   "metadata": {},
   "source": [
    "\n",
    "## 1) Load data\n",
    "\n",
    "We keep the raw DataFrames untouched. All transformations happen inside the pipeline.\n"
   ]
  },
  {
   "cell_type": "code",
   "execution_count": 3,
   "id": "3c897f4b",
   "metadata": {},
   "outputs": [
    {
     "name": "stdout",
     "output_type": "stream",
     "text": [
      "train: (891, 12)  test: (418, 11)\n"
     ]
    },
    {
     "data": {
      "text/html": [
       "<div>\n",
       "<style scoped>\n",
       "    .dataframe tbody tr th:only-of-type {\n",
       "        vertical-align: middle;\n",
       "    }\n",
       "\n",
       "    .dataframe tbody tr th {\n",
       "        vertical-align: top;\n",
       "    }\n",
       "\n",
       "    .dataframe thead th {\n",
       "        text-align: right;\n",
       "    }\n",
       "</style>\n",
       "<table border=\"1\" class=\"dataframe\">\n",
       "  <thead>\n",
       "    <tr style=\"text-align: right;\">\n",
       "      <th></th>\n",
       "      <th>PassengerId</th>\n",
       "      <th>Survived</th>\n",
       "      <th>Pclass</th>\n",
       "      <th>Name</th>\n",
       "      <th>Sex</th>\n",
       "      <th>Age</th>\n",
       "      <th>SibSp</th>\n",
       "      <th>Parch</th>\n",
       "      <th>Ticket</th>\n",
       "      <th>Fare</th>\n",
       "      <th>Cabin</th>\n",
       "      <th>Embarked</th>\n",
       "    </tr>\n",
       "  </thead>\n",
       "  <tbody>\n",
       "    <tr>\n",
       "      <th>0</th>\n",
       "      <td>1</td>\n",
       "      <td>0</td>\n",
       "      <td>3</td>\n",
       "      <td>Braund, Mr. Owen Harris</td>\n",
       "      <td>male</td>\n",
       "      <td>22.0</td>\n",
       "      <td>1</td>\n",
       "      <td>0</td>\n",
       "      <td>A/5 21171</td>\n",
       "      <td>7.2500</td>\n",
       "      <td>NaN</td>\n",
       "      <td>S</td>\n",
       "    </tr>\n",
       "    <tr>\n",
       "      <th>1</th>\n",
       "      <td>2</td>\n",
       "      <td>1</td>\n",
       "      <td>1</td>\n",
       "      <td>Cumings, Mrs. John Bradley (Florence Briggs Th...</td>\n",
       "      <td>female</td>\n",
       "      <td>38.0</td>\n",
       "      <td>1</td>\n",
       "      <td>0</td>\n",
       "      <td>PC 17599</td>\n",
       "      <td>71.2833</td>\n",
       "      <td>C85</td>\n",
       "      <td>C</td>\n",
       "    </tr>\n",
       "    <tr>\n",
       "      <th>2</th>\n",
       "      <td>3</td>\n",
       "      <td>1</td>\n",
       "      <td>3</td>\n",
       "      <td>Heikkinen, Miss. Laina</td>\n",
       "      <td>female</td>\n",
       "      <td>26.0</td>\n",
       "      <td>0</td>\n",
       "      <td>0</td>\n",
       "      <td>STON/O2. 3101282</td>\n",
       "      <td>7.9250</td>\n",
       "      <td>NaN</td>\n",
       "      <td>S</td>\n",
       "    </tr>\n",
       "  </tbody>\n",
       "</table>\n",
       "</div>"
      ],
      "text/plain": [
       "   PassengerId  Survived  Pclass  \\\n",
       "0            1         0       3   \n",
       "1            2         1       1   \n",
       "2            3         1       3   \n",
       "\n",
       "                                                Name     Sex   Age  SibSp  \\\n",
       "0                            Braund, Mr. Owen Harris    male  22.0      1   \n",
       "1  Cumings, Mrs. John Bradley (Florence Briggs Th...  female  38.0      1   \n",
       "2                             Heikkinen, Miss. Laina  female  26.0      0   \n",
       "\n",
       "   Parch            Ticket     Fare Cabin Embarked  \n",
       "0      0         A/5 21171   7.2500   NaN        S  \n",
       "1      0          PC 17599  71.2833   C85        C  \n",
       "2      0  STON/O2. 3101282   7.9250   NaN        S  "
      ]
     },
     "execution_count": 3,
     "metadata": {},
     "output_type": "execute_result"
    }
   ],
   "source": [
    "\n",
    "DATA_DIR = \"../data\"\n",
    "train = pd.read_csv(os.path.join(DATA_DIR, \"train.csv\"))\n",
    "test  = pd.read_csv(os.path.join(DATA_DIR, \"test.csv\"))\n",
    "print(\"train:\", train.shape, \" test:\", test.shape)\n",
    "train.head(3)"
   ]
  },
  {
   "cell_type": "markdown",
   "id": "a53ad877",
   "metadata": {},
   "source": [
    "\n",
    "## 2) Feature engineering (from EDA)\n",
    "\n",
    "We create:  \n",
    "- **Title** from `Name` → collapse to {Mr, Mrs, Miss, Master, Other}  \n",
    "- **FamilySize** = `SibSp + Parch + 1`  \n",
    "- **IsAlone** = 1 if `FamilySize == 1` else 0  \n",
    "- **Deck** from first letter of `Cabin`, `'U'` for unknown  \n",
    "- **Fare_log1p** = `log1p(Fare)` to reduce skew\n",
    "\n",
    "**Missing values strategy (inside preprocessing):**  \n",
    "- `Embarked` → most frequent; `Age`, `Fare` → median; `Deck` keeps `'U'` as a category.\n"
   ]
  },
  {
   "cell_type": "markdown",
   "id": "2846460c",
   "metadata": {},
   "source": [
    "\n",
    "### 2.1) Implementation (wrapped for the pipeline)\n",
    "\n",
    "Using a `FunctionTransformer` keeps feature creation inside the pipeline and guarantees identical train/valid/test logic.  \n",
    "We explicitly keep the **pandas DataFrame output** to preserve column names.\n"
   ]
  },
  {
   "cell_type": "code",
   "execution_count": 4,
   "id": "65ba2be0",
   "metadata": {},
   "outputs": [],
   "source": [
    "\n",
    "def engineer_features(df: pd.DataFrame) -> pd.DataFrame:\n",
    "    out = df.copy()\n",
    "\n",
    "    # Title from Name\n",
    "    title = out['Name'].str.extract(r',\\s*([^.]+)\\.', expand=False).str.strip()\n",
    "    common = {'Mr','Mrs','Miss','Master'}\n",
    "    out['Title'] = title.where(title.isin(common), 'Other')\n",
    "\n",
    "    # Family features\n",
    "    out['FamilySize'] = out['SibSp'].fillna(0) + out['Parch'].fillna(0) + 1\n",
    "    out['IsAlone'] = (out['FamilySize'] == 1).astype(int)\n",
    "\n",
    "    # Deck from Cabin (first letter); NaN -> 'U'\n",
    "    deck = out['Cabin'].astype(str).str[0]\n",
    "    deck = deck.where(deck != 'n', 'U')  # 'nan' -> 'U'\n",
    "    out['Deck'] = deck\n",
    "\n",
    "    # log1p Fare (safe for zeros/NaN; imputed later)\n",
    "    out['Fare_log1p'] = np.log1p(out['Fare'])\n",
    "\n",
    "    return out\n",
    "\n",
    "feature_engineer = FunctionTransformer(engineer_features, validate=False).set_output(transform=\"pandas\")\n",
    "\n",
    "TARGET = 'Survived'\n",
    "ID_COL = 'PassengerId'\n",
    "X = train.drop(columns=[TARGET])\n",
    "y = train[TARGET]\n",
    "X_test_raw = test.copy()\n",
    "\n",
    "# These are the columns that ColumnTransformer will use after feature engineering\n",
    "numeric_features = ['Age','SibSp','Parch','Fare','FamilySize','Fare_log1p','Pclass']\n",
    "categorical_features = ['Sex','Embarked','Title','IsAlone','Deck']\n"
   ]
  },
  {
   "cell_type": "markdown",
   "id": "c17cc541",
   "metadata": {},
   "source": [
    "\n",
    "## 3) Preprocessing with `ColumnTransformer`\n",
    "\n",
    "- **Numeric** → median imputation  \n",
    "- **Categorical** → most‑frequent imputation + one‑hot encoding (ignore unseen categories)\n"
   ]
  },
  {
   "cell_type": "code",
   "execution_count": 5,
   "id": "c009cb44",
   "metadata": {},
   "outputs": [],
   "source": [
    "\n",
    "numeric_transformer = Pipeline([\n",
    "    (\"imputer\", SimpleImputer(strategy=\"median\"))\n",
    "])\n",
    "\n",
    "categorical_transformer = Pipeline([\n",
    "    (\"imputer\", SimpleImputer(strategy=\"most_frequent\")),\n",
    "    (\"onehot\", OneHotEncoder(handle_unknown=\"ignore\", sparse_output=False))\n",
    "])\n",
    "\n",
    "preprocess = ColumnTransformer([\n",
    "    (\"num\", numeric_transformer, numeric_features),\n",
    "    (\"cat\", categorical_transformer, categorical_features),\n",
    "], remainder='drop')\n"
   ]
  },
  {
   "cell_type": "markdown",
   "id": "60391106",
   "metadata": {},
   "source": [
    "\n",
    "### 3.1) Debug: inspect the transformed design matrix\n"
   ]
  },
  {
   "cell_type": "code",
   "execution_count": 6,
   "id": "aef730a7",
   "metadata": {},
   "outputs": [
    {
     "name": "stdout",
     "output_type": "stream",
     "text": [
      "Transformed shape: (891, 28)\n",
      "[[22.          1.          0.          7.25        2.          2.1102132\n",
      "   3.          0.          1.          0.          0.          1.\n",
      "   0.          0.          1.          0.          0.          1.\n",
      "   0.          0.          0.          0.          0.          0.\n",
      "   0.          0.          0.          1.        ]\n",
      " [38.          1.          0.         71.2833      2.          4.28059312\n",
      "   1.          1.          0.          1.          0.          0.\n",
      "   0.          0.          0.          1.          0.          1.\n",
      "   0.          0.          0.          1.          0.          0.\n",
      "   0.          0.          0.          0.        ]\n",
      " [26.          0.          0.          7.925       1.          2.18885633\n",
      "   3.          1.          0.          0.          0.          1.\n",
      "   0.          1.          0.          0.          0.          0.\n",
      "   1.          0.          0.          0.          0.          0.\n",
      "   0.          0.          0.          1.        ]]\n",
      "Number of features: 28\n",
      "First 20 feature names: ['Age', 'SibSp', 'Parch', 'Fare', 'FamilySize', 'Fare_log1p', 'Pclass', 'Sex_female', 'Sex_male', 'Embarked_C', 'Embarked_Q', 'Embarked_S', 'Title_Master', 'Title_Miss', 'Title_Mr', 'Title_Mrs', 'Title_Other', 'IsAlone_0', 'IsAlone_1', 'Deck_A']\n"
     ]
    }
   ],
   "source": [
    "\n",
    "# Apply feature engineering first\n",
    "X_eng = feature_engineer.fit_transform(X)\n",
    "\n",
    "# Fit preprocessing on engineered features\n",
    "preprocess.fit(X_eng)\n",
    "\n",
    "# Transform a sample\n",
    "X_transformed = preprocess.transform(X_eng)\n",
    "print(\"Transformed shape:\", X_transformed.shape)\n",
    "\n",
    "# Show first 3 rows for a quick glance\n",
    "print(X_transformed[:3])\n",
    "\n",
    "# Feature names (numeric + one-hot categorical)\n",
    "num_names = numeric_features\n",
    "cat_names = preprocess.named_transformers_['cat'].named_steps['onehot'].get_feature_names_out(categorical_features).tolist()\n",
    "feature_names = num_names + cat_names\n",
    "print(\"Number of features:\", len(feature_names))\n",
    "print(\"First 20 feature names:\", feature_names[:20])\n"
   ]
  },
  {
   "cell_type": "markdown",
   "id": "583c1316",
   "metadata": {},
   "source": [
    "\n",
    "## 4) Model pipelines\n",
    "\n",
    "We keep identical preprocessing for all models and swap only the estimator.\n"
   ]
  },
  {
   "cell_type": "code",
   "execution_count": 7,
   "id": "b4b7a3b6",
   "metadata": {},
   "outputs": [
    {
     "data": {
      "text/plain": [
       "['LogisticRegression', 'RandomForest', 'GradientBoosting', 'HistGB', 'XGBoost']"
      ]
     },
     "execution_count": 7,
     "metadata": {},
     "output_type": "execute_result"
    }
   ],
   "source": [
    "\n",
    "pipe_lr = Pipeline([\n",
    "    (\"features\", feature_engineer),\n",
    "    (\"preprocess\", preprocess),\n",
    "    (\"model\", LogisticRegression(max_iter=1000))\n",
    "])\n",
    "\n",
    "pipe_rf = Pipeline([\n",
    "    (\"features\", feature_engineer),\n",
    "    (\"preprocess\", preprocess),\n",
    "    (\"model\", RandomForestClassifier(n_estimators=400, max_depth=None, min_samples_leaf=2, n_jobs=-1, random_state=42))\n",
    "])\n",
    "\n",
    "pipe_gb = Pipeline([\n",
    "    (\"features\", feature_engineer),\n",
    "    (\"preprocess\", preprocess),\n",
    "    (\"model\", GradientBoostingClassifier(n_estimators=300, learning_rate=0.05, max_depth=3, random_state=42))\n",
    "])\n",
    "\n",
    "pipe_hgb = Pipeline([\n",
    "    (\"features\", feature_engineer),\n",
    "    (\"preprocess\", preprocess),\n",
    "    (\"model\", HistGradientBoostingClassifier(learning_rate=0.05, max_depth=None, max_bins=255,\n",
    "                                             early_stopping=True, validation_fraction=0.1, random_state=42))\n",
    "])\n",
    "\n",
    "pipe_xgb = Pipeline([\n",
    "    (\"features\", feature_engineer),\n",
    "    (\"preprocess\", preprocess),\n",
    "    (\"model\", XGBClassifier(\n",
    "        n_estimators=400,\n",
    "        learning_rate=0.05,\n",
    "        max_depth=4,\n",
    "        subsample=0.8,\n",
    "        colsample_bytree=0.8,\n",
    "        reg_lambda=1.0,\n",
    "        objective=\"binary:logistic\",\n",
    "        tree_method=\"hist\",\n",
    "        random_state=42,\n",
    "        n_jobs=-1\n",
    "    ))\n",
    "])\n",
    "\n",
    "pipelines = {\n",
    "    \"LogisticRegression\": pipe_lr,\n",
    "    \"RandomForest\": pipe_rf,\n",
    "    \"GradientBoosting\": pipe_gb,\n",
    "    \"HistGB\": pipe_hgb,\n",
    "    \"XGBoost\": pipe_xgb\n",
    "}\n",
    "list(pipelines.keys())"
   ]
  },
  {
   "cell_type": "markdown",
   "id": "02d3cfea",
   "metadata": {},
   "source": [
    "\n",
    "## 5) Validation protocol\n",
    "\n",
    "We use **StratifiedKFold (5 folds)** and report **mean ± std accuracy** (Kaggle metric).\n"
   ]
  },
  {
   "cell_type": "code",
   "execution_count": 8,
   "id": "43893910",
   "metadata": {},
   "outputs": [
    {
     "name": "stdout",
     "output_type": "stream",
     "text": [
      "LogisticRegression: CV accuracy = 0.8227 ± 0.0138\n",
      "RandomForest: CV accuracy = 0.8361 ± 0.0069\n",
      "GradientBoosting: CV accuracy = 0.8372 ± 0.0240\n",
      "HistGB: CV accuracy = 0.8361 ± 0.0137\n",
      "XGBoost: CV accuracy = 0.8350 ± 0.0264\n"
     ]
    }
   ],
   "source": [
    "\n",
    "def cv_score_report(name, pipeline, X, y, n_splits=5):\n",
    "    skf = StratifiedKFold(n_splits=n_splits, shuffle=True, random_state=42)\n",
    "    scores = cross_val_score(pipeline, X, y, cv=skf, scoring=\"accuracy\")\n",
    "    print(f\"{name}: CV accuracy = {scores.mean():.4f} ± {scores.std():.4f}\")\n",
    "    return scores\n",
    "\n",
    "cv_results = {}\n",
    "for name, pipe in pipelines.items():\n",
    "    cv_results[name] = cv_score_report(name, pipe, X, y)\n"
   ]
  },
  {
   "cell_type": "markdown",
   "id": "cf12068a",
   "metadata": {},
   "source": [
    "\n",
    "### 5.1) Holdout set & confusion matrix\n"
   ]
  },
  {
   "cell_type": "code",
   "execution_count": 9,
   "id": "34b31093",
   "metadata": {},
   "outputs": [
    {
     "name": "stdout",
     "output_type": "stream",
     "text": [
      "Holdout accuracy with GradientBoosting: 0.8101\n"
     ]
    },
    {
     "data": {
      "image/png": "[encoded data removed]",
      "text/plain": [
       "<Figure size 640x480 with 2 Axes>"
      ]
     },
     "metadata": {},
     "output_type": "display_data"
    }
   ],
   "source": [
    "\n",
    "X_train, X_val, y_train, y_val = train_test_split(X, y, test_size=0.2, stratify=y, random_state=42)\n",
    "\n",
    "best_name = max(cv_results, key=lambda k: cv_results[k].mean())\n",
    "best_pipe = pipelines[best_name]\n",
    "best_pipe.fit(X_train, y_train)\n",
    "val_preds = best_pipe.predict(X_val)\n",
    "acc = accuracy_score(y_val, val_preds)\n",
    "print(f\"Holdout accuracy with {best_name}: {acc:.4f}\")\n",
    "\n",
    "cm = confusion_matrix(y_val, val_preds, labels=[0,1])\n",
    "disp = ConfusionMatrixDisplay(cm, display_labels=['Died(0)','Survived(1)'])\n",
    "disp.plot()\n",
    "plt.title(f\"Confusion Matrix — {best_name}\")\n",
    "plt.show()\n"
   ]
  },
  {
   "cell_type": "markdown",
   "id": "b8617fba",
   "metadata": {},
   "source": [
    "\n",
    "## 6) Hyperparameter tuning (RandomizedSearchCV)\n",
    "\n",
    "We run a quick random search on **XGBoost** (good tabular baseline).  \n",
    "Use small `n_iter` if your machine is slow; increase for better results.\n"
   ]
  },
  {
   "cell_type": "code",
   "execution_count": 10,
   "id": "7b59ca7b",
   "metadata": {},
   "outputs": [
    {
     "name": "stdout",
     "output_type": "stream",
     "text": [
      "Fitting 5 folds for each of 30 candidates, totalling 150 fits\n"
     ]
    },
    {
     "name": "stdout",
     "output_type": "stream",
     "text": [
      "Best XGB CV accuracy: 0.8484401481388488\n",
      "Best XGB params: {'model__colsample_bytree': np.float64(0.6264118118690402), 'model__learning_rate': np.float64(0.06416866024982448), 'model__max_depth': 6, 'model__min_child_weight': 6, 'model__n_estimators': 746, 'model__reg_lambda': np.float64(0.26100256506134767), 'model__subsample': np.float64(0.5432146321370214)}\n"
     ]
    }
   ],
   "source": [
    "\n",
    "xgb_param_dist = {\n",
    "    \"model__n_estimators\": randint(200, 800),\n",
    "    \"model__learning_rate\": loguniform(1e-3, 3e-1),\n",
    "    \"model__max_depth\": randint(3, 7),\n",
    "    \"model__subsample\": loguniform(0.5, 1.0),\n",
    "    \"model__colsample_bytree\": loguniform(0.5, 1.0),\n",
    "    \"model__reg_lambda\": loguniform(1e-2, 10),\n",
    "    \"model__min_child_weight\": randint(1, 10)\n",
    "}\n",
    "\n",
    "skf = StratifiedKFold(n_splits=5, shuffle=True, random_state=42)\n",
    "xgb_search = RandomizedSearchCV(\n",
    "    estimator=pipe_xgb,\n",
    "    param_distributions=xgb_param_dist,\n",
    "    n_iter=30,               # adjust up if you want a deeper search\n",
    "    scoring=\"accuracy\",\n",
    "    cv=skf,\n",
    "    refit=True,\n",
    "    random_state=42,\n",
    "    n_jobs=-1,\n",
    "    verbose=1\n",
    ")\n",
    "\n",
    "xgb_search.fit(X, y)\n",
    "print(\"Best XGB CV accuracy:\", xgb_search.best_score_)\n",
    "print(\"Best XGB params:\", xgb_search.best_params_)\n",
    "best_xgb_pipeline = xgb_search.best_estimator_\n"
   ]
  },
  {
   "cell_type": "markdown",
   "id": "759bd665",
   "metadata": {},
   "source": [
    "## 7) Optional early stopping for XGBoost (native API)\n",
    "\n",
    "Some XGBoost versions don't accept `early_stopping_rounds` in the sklearn wrapper.  \n",
    "To be version-proof, I switch to the native API (`xgboost.train`) using `DMatrix`.  \n",
    "I reuse the same feature engineering + preprocessing, then train with an eval set and early stopping.\n"
   ]
  },
  {
   "cell_type": "code",
   "execution_count": 11,
   "id": "5498d6b3",
   "metadata": {},
   "outputs": [
    {
     "name": "stdout",
     "output_type": "stream",
     "text": [
      "Early-stopped XGB holdout accuracy: 0.8209\n",
      "Best boosting rounds: 76\n"
     ]
    }
   ],
   "source": [
    "import xgboost as xgb  # native API\n",
    "\n",
    "# Stratified split for early stopping\n",
    "X_tr, X_va, y_tr, y_va = train_test_split(X, y, test_size=0.15, stratify=y, random_state=42)\n",
    "\n",
    "# 1) Engineer + preprocess (same logic as pipeline)\n",
    "X_tr_eng = feature_engineer.fit_transform(X_tr)\n",
    "X_va_eng = feature_engineer.transform(X_va)\n",
    "\n",
    "preprocess.fit(X_tr_eng)\n",
    "X_tr_prep = preprocess.transform(X_tr_eng)\n",
    "X_va_prep = preprocess.transform(X_va_eng)\n",
    "\n",
    "# 2) Build feature names (numeric + one-hot categorical)\n",
    "ohe = preprocess.named_transformers_['cat'].named_steps['onehot']\n",
    "num_names = numeric_features\n",
    "cat_names = ohe.get_feature_names_out(categorical_features).tolist()\n",
    "feature_names = num_names + cat_names\n",
    "\n",
    "# 3) Create DMatrices with names (so importances map to real features)\n",
    "dtrain = xgb.DMatrix(X_tr_prep, label=y_tr, feature_names=feature_names)\n",
    "dvalid = xgb.DMatrix(X_va_prep, label=y_va, feature_names=feature_names)\n",
    "\n",
    "# 4) Params: use tuned values if available; else reasonable defaults\n",
    "best_params = globals().get(\"xgb_search\", None)\n",
    "if best_params is not None and hasattr(xgb_search, \"best_params_\"):\n",
    "    bp = xgb_search.best_params_\n",
    "    params = {\n",
    "        \"objective\": \"binary:logistic\",\n",
    "        \"eval_metric\": \"logloss\",\n",
    "        \"tree_method\": \"hist\",\n",
    "        \"eta\": float(bp[\"model__learning_rate\"]),\n",
    "        \"max_depth\": int(bp[\"model__max_depth\"]),\n",
    "        \"subsample\": float(bp[\"model__subsample\"]),\n",
    "        \"colsample_bytree\": float(bp[\"model__colsample_bytree\"]),\n",
    "        \"lambda\": float(bp[\"model__reg_lambda\"]),\n",
    "        \"min_child_weight\": int(bp.get(\"model__min_child_weight\", 1)),\n",
    "    }\n",
    "    num_round = int(bp[\"model__n_estimators\"])\n",
    "else:\n",
    "    params = {\n",
    "        \"objective\": \"binary:logistic\",\n",
    "        \"eval_metric\": \"logloss\",\n",
    "        \"tree_method\": \"hist\",\n",
    "        \"eta\": 0.05,\n",
    "        \"max_depth\": 4,\n",
    "        \"subsample\": 0.8,\n",
    "        \"colsample_bytree\": 0.8,\n",
    "        \"lambda\": 1.0,\n",
    "        \"min_child_weight\": 1,\n",
    "    }\n",
    "    num_round = 400\n",
    "\n",
    "# 5) Train with early stopping\n",
    "watchlist = [(dtrain, \"train\"), (dvalid, \"valid\")]\n",
    "xgb_booster = xgb.train(\n",
    "    params=params,\n",
    "    dtrain=dtrain,\n",
    "    num_boost_round=num_round,\n",
    "    evals=watchlist,\n",
    "    early_stopping_rounds=50,\n",
    "    verbose_eval=False,\n",
    ")\n",
    "\n",
    "# 6) Evaluate on validation set\n",
    "try:\n",
    "    # new API\n",
    "    best_iter = xgb_booster.best_iteration\n",
    "    va_prob = xgb_booster.predict(dvalid, iteration_range=(0, best_iter + 1))\n",
    "except Exception:\n",
    "    # older API\n",
    "    best_iter = xgb_booster.best_ntree_limit - 1\n",
    "    va_prob = xgb_booster.predict(dvalid, ntree_limit=xgb_booster.best_ntree_limit)\n",
    "\n",
    "va_pred = (va_prob >= 0.5).astype(int)\n",
    "print(f\"Early-stopped XGB holdout accuracy: {accuracy_score(y_va, va_pred):.4f}\")\n",
    "print(\"Best boosting rounds:\", best_iter + 1)\n",
    "\n",
    "# Persist for later steps\n",
    "XGB_EARLY_PARAMS = params\n",
    "XGB_EARLY_BEST_ROUNDS = int(best_iter + 1)\n",
    "XGB_FEATURE_NAMES = feature_names\n",
    "XGB_PREPROCESS = preprocess  # fitted preprocess\n",
    "XGB_FE_ENGINEER = feature_engineer  # fitted feature engineer\n",
    "XGB_BOOSTER = xgb_booster\n"
   ]
  },
  {
   "cell_type": "markdown",
   "id": "f98de6de",
   "metadata": {},
   "source": [
    "## 8) Train on full data & create submissions\n",
    "\n",
    "I export two submissions:\n",
    "1) **Pipeline best-by-CV** (consistent with validation protocol).\n",
    "2) **XGBoost early-stopped** retrained on all data with `best_rounds`.\n"
   ]
  },
  {
   "cell_type": "code",
   "execution_count": 12,
   "id": "86bba9df",
   "metadata": {},
   "outputs": [
    {
     "name": "stdout",
     "output_type": "stream",
     "text": [
      "Saved pipeline submission to: ../outputs/submission_pipeline.csv\n",
      "Saved early-stopped XGB submission to: ../outputs/submission_xgb_es.csv\n"
     ]
    }
   ],
   "source": [
    "os.makedirs(\"outputs\", exist_ok=True)\n",
    "\n",
    "# 8.1 Pipeline submission (best-by-CV)\n",
    "final_name = max(cv_results, key=lambda k: cv_results[k].mean())\n",
    "final_pipe = pipelines[final_name]\n",
    "final_pipe.fit(X, y)\n",
    "pipe_pred = final_pipe.predict(X_test_raw).astype(int)\n",
    "sub_pipe = pd.DataFrame({\"PassengerId\": X_test_raw[\"PassengerId\"], \"Survived\": pipe_pred})\n",
    "sub_pipe_path = os.path.join(\"../outputs\", \"submission_pipeline.csv\")\n",
    "sub_pipe.to_csv(sub_pipe_path, index=False)\n",
    "print(\"Saved pipeline submission to:\", sub_pipe_path)\n",
    "\n",
    "# 8.2 Early-stopped XGB retrain on ALL data with best rounds\n",
    "# Re-engineer + preprocess on ALL training data\n",
    "X_all_eng = XGB_FE_ENGINEER.fit_transform(X)\n",
    "XGB_PREPROCESS.fit(X_all_eng)\n",
    "X_all_prep = XGB_PREPROCESS.transform(X_all_eng)\n",
    "\n",
    "# Prepare test the same way\n",
    "X_test_eng = XGB_FE_ENGINEER.transform(X_test_raw)\n",
    "X_test_prep = XGB_PREPROCESS.transform(X_test_eng)\n",
    "\n",
    "# DMatrices with feature names\n",
    "dall = xgb.DMatrix(X_all_prep, label=y, feature_names=XGB_FEATURE_NAMES)\n",
    "dtest = xgb.DMatrix(X_test_prep, feature_names=XGB_FEATURE_NAMES)\n",
    "\n",
    "# Retrain booster on ALL data with best number of rounds\n",
    "xgb_final = xgb.train(\n",
    "    params=XGB_EARLY_PARAMS,\n",
    "    dtrain=dall,\n",
    "    num_boost_round=XGB_EARLY_BEST_ROUNDS,\n",
    "    verbose_eval=False,\n",
    ")\n",
    "\n",
    "# Predict test and save\n",
    "test_prob = xgb_final.predict(dtest)\n",
    "test_pred = (test_prob >= 0.5).astype(int)\n",
    "sub_es = pd.DataFrame({\"PassengerId\": X_test_raw[\"PassengerId\"], \"Survived\": test_pred})\n",
    "sub_es_path = os.path.join(\"../outputs\", \"submission_xgb_es.csv\")\n",
    "sub_es.to_csv(sub_es_path, index=False)\n",
    "print(\"Saved early-stopped XGB submission to:\", sub_es_path)\n"
   ]
  },
  {
   "cell_type": "markdown",
   "id": "b66a49f1",
   "metadata": {},
   "source": [
    "## 9) Quick model interpretation\n",
    "\n",
    "I show feature importances for:\n",
    "- the **pipeline’s final estimator** (if tree-based), and\n",
    "- the **XGBoost booster** trained with early stopping (gain-based importances)."
   ]
  },
  {
   "cell_type": "code",
   "execution_count": 13,
   "id": "ddc22c42",
   "metadata": {},
   "outputs": [
    {
     "data": {
      "text/plain": [
       "Title_Mr      17.099874\n",
       "Sex_female    15.740839\n",
       "Sex_male      10.565970\n",
       "Title_Miss    10.045524\n",
       "Title_Mrs      5.730789\n",
       "Pclass         4.691372\n",
       "Deck_U         4.663159\n",
       "FamilySize     3.645081\n",
       "Embarked_C     2.850959\n",
       "Embarked_S     2.517258\n",
       "Fare_log1p     2.171926\n",
       "Fare           2.167045\n",
       "SibSp          2.012918\n",
       "IsAlone_0      1.982650\n",
       "Age            1.720424\n",
       "Parch          1.284808\n",
       "dtype: float64"
      ]
     },
     "execution_count": 13,
     "metadata": {},
     "output_type": "execute_result"
    }
   ],
   "source": [
    "# 9.1 Pipeline model importances (tree-based only)\n",
    "def get_feature_names(preprocessor, numeric_feats, categorical_feats):\n",
    "    ohe = preprocessor.named_transformers_['cat'].named_steps['onehot']\n",
    "    return numeric_feats + ohe.get_feature_names_out(categorical_feats).tolist()\n",
    "\n",
    "if hasattr(final_pipe.named_steps['model'], \"feature_importances_\"):\n",
    "    X_eng_all = feature_engineer.transform(X)\n",
    "    final_pipe.named_steps['preprocess'].fit(X_eng_all)\n",
    "    feat_names_pipe = get_feature_names(final_pipe.named_steps['preprocess'], numeric_features, categorical_features)\n",
    "    importances = final_pipe.named_steps['model'].feature_importances_\n",
    "    pd.Series(importances, index=feat_names_pipe).sort_values(ascending=False).head(20)\n",
    "else:\n",
    "    print(\"Pipeline final model is not tree-based (no feature_importances_).\")\n",
    "\n",
    "# 9.2 XGB booster importances (gain)\n",
    "xgb_gain = XGB_BOOSTER.get_score(importance_type=\"gain\")\n",
    "imp_series = pd.Series(xgb_gain).sort_values(ascending=False).head(20)\n",
    "imp_series"
   ]
  },
  {
   "cell_type": "markdown",
   "id": "70cd3c79",
   "metadata": {},
   "source": [
    "## 10) Conclusions & next steps\n",
    "\n",
    "- Kept a leakage-safe pipeline aligned with EDA; validated with Stratified K-Fold.\n",
    "- Added boosted models and tuned XGBoost with a random search.\n",
    "- Implemented version-proof early stopping using the **native xgboost API**.\n",
    "- Exported two submissions: best pipeline and early-stopped XGB.\n",
    "\n",
    "**Next:** Try a few extra engineered features (`FarePerPerson`, `IsChild`, `TicketGroupSize`), expand tuning for XGBoost/LightGBM, and explore a simple soft-voting ensemble."
   ]
  }
 ],
 "metadata": {
  "kernelspec": {
   "display_name": "titanic",
   "language": "python",
   "name": "python3"
  },
  "language_info": {
   "codemirror_mode": {
    "name": "ipython",
    "version": 3
   },
   "file_extension": ".py",
   "mimetype": "text/x-python",
   "name": "python",
   "nbconvert_exporter": "python",
   "pygments_lexer": "ipython3",
   "version": "3.11.13"
  }
 },
 "nbformat": 4,
 "nbformat_minor": 5
}
